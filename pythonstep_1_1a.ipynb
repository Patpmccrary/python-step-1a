{
  "nbformat": 4,
  "nbformat_minor": 0,
  "metadata": {
    "colab": {
      "name": "pythonstep-1-1a",
      "provenance": [],
      "collapsed_sections": [],
      "authorship_tag": "ABX9TyN5VoenamhTLs59PrwFaYE5",
      "include_colab_link": true
    },
    "kernelspec": {
      "name": "python3",
      "display_name": "Python 3"
    }
  },
  "cells": [
    {
      "cell_type": "markdown",
      "metadata": {
        "id": "view-in-github",
        "colab_type": "text"
      },
      "source": [
        "<a href=\"https://colab.research.google.com/github/Patpmccrary/python-step-1a/blob/python-step-1/pythonstep_1_1a.ipynb\" target=\"_parent\"><img src=\"https://colab.research.google.com/assets/colab-badge.svg\" alt=\"Open In Colab\"/></a>"
      ]
    },
    {
      "cell_type": "markdown",
      "metadata": {
        "id": "-bylrQZfzSMO"
      },
      "source": [
        "#**Hello World**"
      ]
    },
    {
      "cell_type": "code",
      "metadata": {
        "colab": {
          "base_uri": "https://localhost:8080/"
        },
        "id": "VyGit2yzwGx5",
        "outputId": "8ee70239-480f-40bc-eeb3-c2c86d6cdc5d"
      },
      "source": [
        "print(\"hello\")"
      ],
      "execution_count": null,
      "outputs": [
        {
          "output_type": "stream",
          "text": [
            "hello\n"
          ],
          "name": "stdout"
        }
      ]
    },
    {
      "cell_type": "markdown",
      "metadata": {
        "id": "FIzSpuYNwioR"
      },
      "source": [
        "Print is a function of python\r\n"
      ]
    },
    {
      "cell_type": "markdown",
      "metadata": {
        "id": "WHURZNaTzam6"
      },
      "source": [
        "#**help command**"
      ]
    },
    {
      "cell_type": "code",
      "metadata": {
        "id": "eknXGg73wdDr"
      },
      "source": [
        "help('print')"
      ],
      "execution_count": null,
      "outputs": []
    },
    {
      "cell_type": "markdown",
      "metadata": {
        "id": "MyuvGopDxg89"
      },
      "source": [
        "help is a funtion of python"
      ]
    },
    {
      "cell_type": "markdown",
      "metadata": {
        "id": "wASrWOY2xY2T"
      },
      "source": [
        "help gives a description of what funtion is whithn the brackets"
      ]
    },
    {
      "cell_type": "markdown",
      "metadata": {
        "id": "wOoU9RWXzd9Z"
      },
      "source": [
        "#**comment**"
      ]
    },
    {
      "cell_type": "code",
      "metadata": {
        "colab": {
          "base_uri": "https://localhost:8080/",
          "height": 52
        },
        "id": "K2ywuyX4xuI3",
        "outputId": "94d0ee8a-4634-4356-9d18-bfb196ce26f2"
      },
      "source": [
        "# comment of the week\r\n",
        "print('this is not a comment')\r\n",
        "\r\n",
        "\"\"\"\"\r\n",
        "this\r\n",
        "is\r\n",
        "a\r\n",
        "multi line\r\n",
        "\"\"\""
      ],
      "execution_count": null,
      "outputs": [
        {
          "output_type": "stream",
          "text": [
            "this is not a comment\n"
          ],
          "name": "stdout"
        },
        {
          "output_type": "execute_result",
          "data": {
            "application/vnd.google.colaboratory.intrinsic+json": {
              "type": "string"
            },
            "text/plain": [
              "'\"\\nthis\\nis\\na\\nmulti line\\n'"
            ]
          },
          "metadata": {
            "tags": []
          },
          "execution_count": 23
        }
      ]
    },
    {
      "cell_type": "code",
      "metadata": {
        "id": "I6FXJWXdzNR3"
      },
      "source": [
        ""
      ],
      "execution_count": null,
      "outputs": []
    },
    {
      "cell_type": "markdown",
      "metadata": {
        "id": "qqXINQTKy3Zf"
      },
      "source": [
        "comment gives you the ability to leave notes to each funtion"
      ]
    },
    {
      "cell_type": "markdown",
      "metadata": {
        "id": "YBGjod6u1Zvn"
      },
      "source": [
        "comment also give you the bality to control parts of the code beig written\r\n"
      ]
    },
    {
      "cell_type": "markdown",
      "metadata": {
        "id": "QKy3Yktx3Ioq"
      },
      "source": [
        "#**variables**"
      ]
    },
    {
      "cell_type": "code",
      "metadata": {
        "colab": {
          "base_uri": "https://localhost:8080/"
        },
        "id": "U4uKs7hqzpNi",
        "outputId": "6e23e8cf-e6d5-47f2-b5f9-184d8da13511"
      },
      "source": [
        "# bind number 7100 to Variable x\r\n",
        "x = 100 # the value of 100 is assigned to x\r\n",
        "#print the value of x\r\n",
        "print(x)\r\n",
        "\r\n"
      ],
      "execution_count": null,
      "outputs": [
        {
          "output_type": "stream",
          "text": [
            "100\n"
          ],
          "name": "stdout"
        }
      ]
    },
    {
      "cell_type": "code",
      "metadata": {
        "colab": {
          "base_uri": "https://localhost:8080/"
        },
        "id": "F72C5Tl71kMB",
        "outputId": "92170feb-3597-4585-8d8b-a36fd4496115"
      },
      "source": [
        "x = 350 \r\n",
        "\r\n",
        "print(x)"
      ],
      "execution_count": null,
      "outputs": [
        {
          "output_type": "stream",
          "text": [
            "350\n"
          ],
          "name": "stdout"
        }
      ]
    },
    {
      "cell_type": "markdown",
      "metadata": {
        "id": "XqjRaDJn4C5e"
      },
      "source": [
        "binding numbers to variables allows funtions to be named"
      ]
    },
    {
      "cell_type": "markdown",
      "metadata": {
        "id": "_m2xiT_93JKG"
      },
      "source": [
        "#**simple Program**"
      ]
    },
    {
      "cell_type": "code",
      "metadata": {
        "colab": {
          "base_uri": "https://localhost:8080/"
        },
        "id": "LPZNWP9X4et1",
        "outputId": "28bb4fed-7e46-4d5e-f859-bf7698042533"
      },
      "source": [
        "name = input('what is your name??')\r\n",
        "print('welcome to the world of python,', name)\r\n",
        "red = input('choose your pill')\r\n",
        "red = print('welcome to our side')\r\n"
      ],
      "execution_count": null,
      "outputs": [
        {
          "output_type": "stream",
          "text": [
            "what is your name??patrick\n",
            "welcome to the world of python, patrick\n"
          ],
          "name": "stdout"
        }
      ]
    },
    {
      "cell_type": "markdown",
      "metadata": {
        "id": "BvqjnDOhu_gt"
      },
      "source": [
        "i learn that adding input creates a window for text, that you can respond to essentially, i want to figure out how to do multiple answered programs, very intresting."
      ]
    },
    {
      "cell_type": "code",
      "metadata": {
        "colab": {
          "base_uri": "https://localhost:8080/"
        },
        "id": "hQIqJl8p7qCx",
        "outputId": "d9c2d34b-96b8-4ab6-c09b-ec940d211c0d"
      },
      "source": [
        "x = 7 # 7 is an integer(a whole numeber)\r\n",
        "type(x)"
      ],
      "execution_count": null,
      "outputs": [
        {
          "output_type": "execute_result",
          "data": {
            "text/plain": [
              "int"
            ]
          },
          "metadata": {
            "tags": []
          },
          "execution_count": 10
        }
      ]
    },
    {
      "cell_type": "code",
      "metadata": {
        "colab": {
          "base_uri": "https://localhost:8080/"
        },
        "id": "_BWolH8h8Iij",
        "outputId": "19e93639-dba4-4164-f194-80069209ce49"
      },
      "source": [
        "#to creat a float type variable\r\n",
        "x = 3.14 #3.14 is a dec. num. witha characteristic and mantissa\r\n",
        "type(x)"
      ],
      "execution_count": null,
      "outputs": [
        {
          "output_type": "execute_result",
          "data": {
            "text/plain": [
              "float"
            ]
          },
          "metadata": {
            "tags": []
          },
          "execution_count": 87
        }
      ]
    },
    {
      "cell_type": "markdown",
      "metadata": {
        "id": "sIZH6Nyl8pHo"
      },
      "source": [
        "there are two basic data types integers and decimals (whole numbers and decimal numbers"
      ]
    },
    {
      "cell_type": "markdown",
      "metadata": {
        "id": "Sob9_8FP-KAj"
      },
      "source": [
        "**TEXT SEQUENCE TYPES**\r\n"
      ]
    },
    {
      "cell_type": "code",
      "metadata": {
        "colab": {
          "base_uri": "https://localhost:8080/"
        },
        "id": "_F0-2viW-dkw",
        "outputId": "3bc6d6d6-679a-4464-817d-5a42c7cc66bf"
      },
      "source": [
        "python_string = ('tech I.S is awesome!')\r\n",
        "\r\n",
        "type(python_string)"
      ],
      "execution_count": null,
      "outputs": [
        {
          "output_type": "execute_result",
          "data": {
            "text/plain": [
              "str"
            ]
          },
          "metadata": {
            "tags": []
          },
          "execution_count": 91
        }
      ]
    },
    {
      "cell_type": "markdown",
      "metadata": {
        "id": "abYv1jw3_kxT"
      },
      "source": [
        "a text sequnce is essentially a chosen phrase that can contain a sequence of code"
      ]
    },
    {
      "cell_type": "markdown",
      "metadata": {
        "id": "Ny4TEHgt_znx"
      },
      "source": [
        "**sequence types\r\n",
        "mutable means can be changed after creation\r\n",
        "immutable means the value cannot be changed after creation\r\n",
        "list: mutable\r\n",
        "tuple: immutable\r\n",
        "range: immutable"
      ]
    },
    {
      "cell_type": "code",
      "metadata": {
        "colab": {
          "base_uri": "https://localhost:8080/"
        },
        "id": "EtURHUoGA3cY",
        "outputId": "daac271b-f8c8-43de-e4d9-f70f34504ee9"
      },
      "source": [
        "list_example = ['3' ,92, 'x',3.14]\r\n",
        "print(list_example)\r\n",
        "\r\n",
        "print(len(list_example))\r\n",
        "\r\n",
        "type(list_example)"
      ],
      "execution_count": null,
      "outputs": [
        {
          "output_type": "stream",
          "text": [
            "['3', 92, 'x', 3.14]\n",
            "4\n"
          ],
          "name": "stdout"
        },
        {
          "output_type": "execute_result",
          "data": {
            "text/plain": [
              "list"
            ]
          },
          "metadata": {
            "tags": []
          },
          "execution_count": 92
        }
      ]
    },
    {
      "cell_type": "markdown",
      "metadata": {
        "id": "2zC1WBL1CjG5"
      },
      "source": [
        "Lists are comma seperated values in square brackets(they are mandatory)\r\n",
        "should be chosen if content is not fixed and always changing\r\n",
        "cannot be used as keys for dictionary"
      ]
    },
    {
      "cell_type": "code",
      "metadata": {
        "colab": {
          "base_uri": "https://localhost:8080/"
        },
        "id": "QBgnV6pWBwi2",
        "outputId": "a542f31e-7d53-46b6-bdb6-f3df515cdd24"
      },
      "source": [
        "tuple_example = (5,\"11\" , 'a' ,2.86)\r\n",
        "print(tuple_example)\r\n",
        "\r\n",
        "print(len(tuple_example))\r\n",
        "\r\n",
        "type(tuple_example)"
      ],
      "execution_count": null,
      "outputs": [
        {
          "output_type": "stream",
          "text": [
            "(5, '11', 'a', 2.86)\n",
            "4\n"
          ],
          "name": "stdout"
        },
        {
          "output_type": "execute_result",
          "data": {
            "text/plain": [
              "tuple"
            ]
          },
          "metadata": {
            "tags": []
          },
          "execution_count": 20
        }
      ]
    },
    {
      "cell_type": "markdown",
      "metadata": {
        "id": "rpyNcPJYCWAE"
      },
      "source": [
        "Tuples are ordered comma seperated values in parenthesis(not mandatory)\r\n",
        "can not be changed once created\r\n",
        "only choose if content is fixed\r\n",
        "can be used as dictionary keys\r\n",
        "\r\n"
      ]
    },
    {
      "cell_type": "code",
      "metadata": {
        "colab": {
          "base_uri": "https://localhost:8080/"
        },
        "id": "S8qHVEaQCVvq",
        "outputId": "0e77f1cd-5f8e-4346-cc62-01af9a04c54d"
      },
      "source": [
        "#defining range\r\n",
        "range_example = range(7)\r\n",
        "print(range_example)\r\n",
        "\r\n",
        "print(len(range_example))\r\n",
        "\r\n",
        "type(range_example)"
      ],
      "execution_count": null,
      "outputs": [
        {
          "output_type": "stream",
          "text": [
            "range(0, 7)\n",
            "7\n"
          ],
          "name": "stdout"
        },
        {
          "output_type": "execute_result",
          "data": {
            "text/plain": [
              "range"
            ]
          },
          "metadata": {
            "tags": []
          },
          "execution_count": 24
        }
      ]
    },
    {
      "cell_type": "markdown",
      "metadata": {
        "id": "mDhDbDCaFIyR"
      },
      "source": [
        "range(7) means a sequence from 0 to 7 the numbr in () is stop number"
      ]
    },
    {
      "cell_type": "code",
      "metadata": {
        "colab": {
          "base_uri": "https://localhost:8080/"
        },
        "id": "hIpJDy3hFaBl",
        "outputId": "00b8d210-3793-40ad-ee44-48b6c2c691c8"
      },
      "source": [
        "#defining range with(start stop step)\r\n",
        "range_example = range(0,20,2)\r\n",
        "print(range_example)\r\n",
        "\r\n",
        "print(len(range_example))\r\n",
        "\r\n",
        "type(range_example)"
      ],
      "execution_count": null,
      "outputs": [
        {
          "output_type": "stream",
          "text": [
            "range(0, 20, 2)\n",
            "10\n"
          ],
          "name": "stdout"
        },
        {
          "output_type": "execute_result",
          "data": {
            "text/plain": [
              "range"
            ]
          },
          "metadata": {
            "tags": []
          },
          "execution_count": 93
        }
      ]
    },
    {
      "cell_type": "markdown",
      "metadata": {
        "id": "4Egv3afuGm8G"
      },
      "source": [
        "range is a funtion in python used to sequence numbers"
      ]
    },
    {
      "cell_type": "markdown",
      "metadata": {
        "id": "Svedtu8CxbMK"
      },
      "source": [
        "**Mapping Data Type**\r\n",
        "Dictionary"
      ]
    },
    {
      "cell_type": "code",
      "metadata": {
        "colab": {
          "base_uri": "https://localhost:8080/"
        },
        "id": "k3MVjuTQxo6G",
        "outputId": "47b49a97-38bc-4a1f-fd36-d12793f2c203"
      },
      "source": [
        "b ={'one': 1, 'two': 2, 'Three' : 3}\r\n",
        "print(b)\r\n",
        "\r\n",
        "type(b)"
      ],
      "execution_count": null,
      "outputs": [
        {
          "output_type": "stream",
          "text": [
            "{'one': 1, 'two': 2, 'Three': 3}\n"
          ],
          "name": "stdout"
        },
        {
          "output_type": "execute_result",
          "data": {
            "text/plain": [
              "dict"
            ]
          },
          "metadata": {
            "tags": []
          },
          "execution_count": 95
        }
      ]
    },
    {
      "cell_type": "markdown",
      "metadata": {
        "id": "Z9rNvq_c4CSJ"
      },
      "source": [
        "#**Boolean Types**"
      ]
    },
    {
      "cell_type": "code",
      "metadata": {
        "colab": {
          "base_uri": "https://localhost:8080/"
        },
        "id": "hMaaC5Tc43p5",
        "outputId": "09ffeed4-8848-455e-f72b-3542f81f8476"
      },
      "source": [
        "#define a 'true boolean\r\n",
        "boolean = True\r\n",
        "\r\n",
        "#check type\r\n",
        "type(boolean)"
      ],
      "execution_count": null,
      "outputs": [
        {
          "output_type": "execute_result",
          "data": {
            "text/plain": [
              "bool"
            ]
          },
          "metadata": {
            "tags": []
          },
          "execution_count": 1
        }
      ]
    },
    {
      "cell_type": "code",
      "metadata": {
        "colab": {
          "base_uri": "https://localhost:8080/"
        },
        "id": "3oQU2UEcTAV9",
        "outputId": "4b35af11-7790-4999-a1db-085fa362d311"
      },
      "source": [
        "# define a \"true\" boolean\r\n",
        "boolean = False\r\n",
        "\r\n",
        "# check type\r\n",
        "type(boolean)"
      ],
      "execution_count": null,
      "outputs": [
        {
          "output_type": "execute_result",
          "data": {
            "text/plain": [
              "bool"
            ]
          },
          "metadata": {
            "tags": []
          },
          "execution_count": 2
        }
      ]
    },
    {
      "cell_type": "markdown",
      "metadata": {
        "id": "W0Aq6S4OTYrJ"
      },
      "source": [
        "#**set types**"
      ]
    },
    {
      "cell_type": "code",
      "metadata": {
        "colab": {
          "base_uri": "https://localhost:8080/"
        },
        "id": "n7uiWc1UTAPj",
        "outputId": "fd957518-feb0-4121-fb58-705c94cb767c"
      },
      "source": [
        "set_of_numbers = {0,9,1,5,7}\r\n",
        "print(set_of_numbers)"
      ],
      "execution_count": null,
      "outputs": [
        {
          "output_type": "stream",
          "text": [
            "{0, 1, 5, 7, 9}\n"
          ],
          "name": "stdout"
        }
      ]
    },
    {
      "cell_type": "markdown",
      "metadata": {
        "id": "p5lE2iNHUAqt"
      },
      "source": [
        "organizes numbers in order"
      ]
    },
    {
      "cell_type": "code",
      "metadata": {
        "colab": {
          "base_uri": "https://localhost:8080/"
        },
        "id": "ERc6z-g7UJYZ",
        "outputId": "956881cd-785e-452e-cac2-374ac8e07f91"
      },
      "source": [
        "names = ['olivia','caleb','olivia']\r\n",
        "names_set = set(names)\r\n",
        "unique_names = list(names_set)\r\n",
        "print(unique_names)"
      ],
      "execution_count": null,
      "outputs": [
        {
          "output_type": "stream",
          "text": [
            "['olivia', 'caleb']\n"
          ],
          "name": "stdout"
        }
      ]
    },
    {
      "cell_type": "markdown",
      "metadata": {
        "id": "YlWWpZ0iVlgu"
      },
      "source": [
        "#**Operators**"
      ]
    },
    {
      "cell_type": "markdown",
      "metadata": {
        "id": "_BkvI5sAVwUM"
      },
      "source": [
        "#numeric operators"
      ]
    },
    {
      "cell_type": "code",
      "metadata": {
        "id": "_valUXVKV3DI"
      },
      "source": [
        "#set values of x, yand z for numeric operator exploration\r\n",
        "x = 5   #integer value\r\n",
        "y = 2.0 #float value\r\n",
        "z = -13 #negative integer\r\n",
        "\r\n",
        "#(run this first to initialize values for the next few cells)"
      ],
      "execution_count": null,
      "outputs": []
    },
    {
      "cell_type": "code",
      "metadata": {
        "colab": {
          "base_uri": "https://localhost:8080/"
        },
        "id": "qRwiBwcqYhQf",
        "outputId": "dd28b613-6af1-4ba5-d914-51df7b8c7393"
      },
      "source": [
        "# sum of x and y\r\n",
        "print(x + y)"
      ],
      "execution_count": null,
      "outputs": [
        {
          "output_type": "stream",
          "text": [
            "7.0\n"
          ],
          "name": "stdout"
        }
      ]
    },
    {
      "cell_type": "code",
      "metadata": {
        "colab": {
          "base_uri": "https://localhost:8080/"
        },
        "id": "LeRnJ5RpY6M5",
        "outputId": "2f6e4c04-1aa5-4909-f7b4-8792f0752542"
      },
      "source": [
        "# difference of x and y\r\n",
        "print( x - y)"
      ],
      "execution_count": null,
      "outputs": [
        {
          "output_type": "stream",
          "text": [
            "3.0\n"
          ],
          "name": "stdout"
        }
      ]
    },
    {
      "cell_type": "code",
      "metadata": {
        "colab": {
          "base_uri": "https://localhost:8080/"
        },
        "id": "JaUUpifwZX7a",
        "outputId": "afa9db07-7f2b-4708-e7ec-111e9bca0e53"
      },
      "source": [
        "# product of x and y\r\n",
        "print(x * y)"
      ],
      "execution_count": null,
      "outputs": [
        {
          "output_type": "stream",
          "text": [
            "10.0\n"
          ],
          "name": "stdout"
        }
      ]
    },
    {
      "cell_type": "code",
      "metadata": {
        "colab": {
          "base_uri": "https://localhost:8080/"
        },
        "id": "cxoPtXA3cQu4",
        "outputId": "20c9aacb-a13e-4e6e-c96c-2b9902ba1471"
      },
      "source": [
        "# quotient of x and y\r\n",
        "print(x / y)"
      ],
      "execution_count": null,
      "outputs": [
        {
          "output_type": "stream",
          "text": [
            "2.5\n"
          ],
          "name": "stdout"
        }
      ]
    },
    {
      "cell_type": "code",
      "metadata": {
        "colab": {
          "base_uri": "https://localhost:8080/"
        },
        "id": "DjodENKec2wg",
        "outputId": "c085c34a-166e-4698-b3ec-751c994dc611"
      },
      "source": [
        "# floored quotient of x and y\r\n",
        "print(x // y)"
      ],
      "execution_count": null,
      "outputs": [
        {
          "output_type": "stream",
          "text": [
            "2.0\n"
          ],
          "name": "stdout"
        }
      ]
    },
    {
      "cell_type": "code",
      "metadata": {
        "colab": {
          "base_uri": "https://localhost:8080/"
        },
        "id": "toW5kDSmdeNm",
        "outputId": "9ca6ada9-5c2c-40aa-dabc-8e5f2535f862"
      },
      "source": [
        "# remainder of x / y\r\n",
        "print(x % y)"
      ],
      "execution_count": null,
      "outputs": [
        {
          "output_type": "stream",
          "text": [
            "1.0\n"
          ],
          "name": "stdout"
        }
      ]
    },
    {
      "cell_type": "code",
      "metadata": {
        "colab": {
          "base_uri": "https://localhost:8080/"
        },
        "id": "eI0X4I7phZ-Z",
        "outputId": "9334285c-ba20-4f24-cfe4-4db143e38ab5"
      },
      "source": [
        "# absolute value\r\n",
        "print(abs(z))"
      ],
      "execution_count": null,
      "outputs": [
        {
          "output_type": "stream",
          "text": [
            "13\n"
          ],
          "name": "stdout"
        }
      ]
    },
    {
      "cell_type": "code",
      "metadata": {
        "colab": {
          "base_uri": "https://localhost:8080/"
        },
        "id": "3_Az-Fc9hqBr",
        "outputId": "268a03a0-d9c0-4a43-88d2-be8e28f83509"
      },
      "source": [
        "# x raised topower y\r\n",
        "print(x ** y)"
      ],
      "execution_count": null,
      "outputs": [
        {
          "output_type": "stream",
          "text": [
            "25.0\n"
          ],
          "name": "stdout"
        }
      ]
    },
    {
      "cell_type": "code",
      "metadata": {
        "colab": {
          "base_uri": "https://localhost:8080/"
        },
        "id": "8cvIhtXAh1jJ",
        "outputId": "1dacfdf6-76b2-4365-f48e-dfbc5d99e443"
      },
      "source": [
        "# rounding a dec. example rounding down\r\n",
        "print(round(2.1))"
      ],
      "execution_count": null,
      "outputs": [
        {
          "output_type": "stream",
          "text": [
            "2\n"
          ],
          "name": "stdout"
        }
      ]
    },
    {
      "cell_type": "code",
      "metadata": {
        "colab": {
          "base_uri": "https://localhost:8080/"
        },
        "id": "T9f2izsHh_4-",
        "outputId": "3a9a7131-757a-48d7-b8b3-205873b1e42c"
      },
      "source": [
        "# rounding a decimal example rounding up\r\n",
        "print(round(3.7))"
      ],
      "execution_count": null,
      "outputs": [
        {
          "output_type": "stream",
          "text": [
            "4\n"
          ],
          "name": "stdout"
        }
      ]
    },
    {
      "cell_type": "code",
      "metadata": {
        "colab": {
          "base_uri": "https://localhost:8080/"
        },
        "id": "HbPsFV4MiVx8",
        "outputId": "ef90fb9e-ce8d-41f5-fc26-85ea05581aea"
      },
      "source": [
        "# binary version of the number\r\n",
        "print(bin(37))"
      ],
      "execution_count": null,
      "outputs": [
        {
          "output_type": "stream",
          "text": [
            "0b100101\n"
          ],
          "name": "stdout"
        }
      ]
    },
    {
      "cell_type": "code",
      "metadata": {
        "colab": {
          "base_uri": "https://localhost:8080/"
        },
        "id": "C2oZMIfEil5a",
        "outputId": "9d1a5909-a4d3-498c-c52e-03bd76222012"
      },
      "source": [
        "# hexadecimal version of the number\r\n",
        "print(hex(37))"
      ],
      "execution_count": null,
      "outputs": [
        {
          "output_type": "stream",
          "text": [
            "0x25\n"
          ],
          "name": "stdout"
        }
      ]
    },
    {
      "cell_type": "markdown",
      "metadata": {
        "id": "rAO80i-MLvhe"
      },
      "source": [
        "#**comparison operators**"
      ]
    },
    {
      "cell_type": "code",
      "metadata": {
        "colab": {
          "base_uri": "https://localhost:8080/"
        },
        "id": "xKF6WLA2L-Zy",
        "outputId": "d064d054-1042-420e-991c-576f34ed7973"
      },
      "source": [
        "# Greater Than\r\n",
        "i=3\r\n",
        "j=7\r\n",
        "\r\n",
        "print(i > j)\r\n"
      ],
      "execution_count": null,
      "outputs": [
        {
          "output_type": "stream",
          "text": [
            "False\n"
          ],
          "name": "stdout"
        }
      ]
    },
    {
      "cell_type": "markdown",
      "metadata": {
        "id": "-XK3txOeNzkb"
      },
      "source": [
        "i can never be greater than j in this formula because of the variables"
      ]
    },
    {
      "cell_type": "code",
      "metadata": {
        "colab": {
          "base_uri": "https://localhost:8080/"
        },
        "id": "a3_DvqVkL-UP",
        "outputId": "e055f500-1e1c-4f2c-9bca-38266b4f668c"
      },
      "source": [
        "# greator than or equal \r\n",
        "i = 3\r\n",
        "j = 7\r\n",
        "\r\n",
        "\r\n",
        "print(i >= j)"
      ],
      "execution_count": null,
      "outputs": [
        {
          "output_type": "stream",
          "text": [
            "False\n"
          ],
          "name": "stdout"
        }
      ]
    },
    {
      "cell_type": "code",
      "metadata": {
        "colab": {
          "base_uri": "https://localhost:8080/"
        },
        "id": "3UkrE_JWOVOO",
        "outputId": "7a4b8fa0-0987-4a48-c1c5-fc972720ddff"
      },
      "source": [
        "#less than\r\n",
        "i = 3\r\n",
        "j = 7\r\n",
        "print(i<j)\r\n"
      ],
      "execution_count": null,
      "outputs": [
        {
          "output_type": "stream",
          "text": [
            "True\n"
          ],
          "name": "stdout"
        }
      ]
    },
    {
      "cell_type": "markdown",
      "metadata": {
        "id": "AKSGwWirOo6U"
      },
      "source": [
        "now I can be greator in thie formula due to the variables"
      ]
    },
    {
      "cell_type": "code",
      "metadata": {
        "colab": {
          "base_uri": "https://localhost:8080/"
        },
        "id": "ZYlA0e5uPIMO",
        "outputId": "dad66a7b-3a9f-415b-ae6a-2cf056888e60"
      },
      "source": [
        "# less than or equal to\r\n",
        "i = 3\r\n",
        "j = 7\r\n",
        "\r\n",
        "print(i <= j)"
      ],
      "execution_count": null,
      "outputs": [
        {
          "output_type": "stream",
          "text": [
            "True\n"
          ],
          "name": "stdout"
        }
      ]
    },
    {
      "cell_type": "code",
      "metadata": {
        "colab": {
          "base_uri": "https://localhost:8080/"
        },
        "id": "jAchTqOQPciS",
        "outputId": "f3169602-8bbd-4324-a6a0-72ef1db9d163"
      },
      "source": [
        "# equality test 1\r\n",
        "i=3\r\n",
        "j=7\r\n",
        "\r\n",
        "print( i==j)"
      ],
      "execution_count": null,
      "outputs": [
        {
          "output_type": "stream",
          "text": [
            "False\n"
          ],
          "name": "stdout"
        }
      ]
    },
    {
      "cell_type": "markdown",
      "metadata": {
        "id": "zE3MJdQKPqje"
      },
      "source": [
        "test one shows inequality"
      ]
    },
    {
      "cell_type": "code",
      "metadata": {
        "colab": {
          "base_uri": "https://localhost:8080/"
        },
        "id": "NpVH5oHkPvkJ",
        "outputId": "8f3b8357-a032-45e2-8997-73eb5bf06cba"
      },
      "source": [
        " # equality test 2\r\n",
        " i=3\r\n",
        " j=3\r\n",
        "\r\n",
        "print(i == j)"
      ],
      "execution_count": null,
      "outputs": [
        {
          "output_type": "stream",
          "text": [
            "True\n"
          ],
          "name": "stdout"
        }
      ]
    },
    {
      "cell_type": "code",
      "metadata": {
        "colab": {
          "base_uri": "https://localhost:8080/"
        },
        "id": "Y5qOMeeOQGGf",
        "outputId": "dc5618ea-dd4c-47ef-bd5c-ef85b47f4311"
      },
      "source": [
        "#inequality test 1\r\n",
        "i = 3\r\n",
        "j = 7\r\n",
        "print(i != j)"
      ],
      "execution_count": null,
      "outputs": [
        {
          "output_type": "stream",
          "text": [
            "True\n"
          ],
          "name": "stdout"
        }
      ]
    },
    {
      "cell_type": "code",
      "metadata": {
        "colab": {
          "base_uri": "https://localhost:8080/"
        },
        "id": "5e6c9QUOQf1A",
        "outputId": "36385bbd-19bf-4a04-cd74-723c988b5dbc"
      },
      "source": [
        "#inequality test 2\r\n",
        "i = 3\r\n",
        "j = 3 \r\n",
        "\r\n",
        "print(i != j)"
      ],
      "execution_count": null,
      "outputs": [
        {
          "output_type": "stream",
          "text": [
            "False\n"
          ],
          "name": "stdout"
        }
      ]
    },
    {
      "cell_type": "code",
      "metadata": {
        "colab": {
          "base_uri": "https://localhost:8080/"
        },
        "id": "4IdUKUgiREO2",
        "outputId": "2fec0ac3-1514-41e3-eac5-4ea9264a7557"
      },
      "source": [
        "## 'not operator\r\n",
        "a = True\r\n",
        "print(not a)"
      ],
      "execution_count": null,
      "outputs": [
        {
          "output_type": "stream",
          "text": [
            "False\n"
          ],
          "name": "stdout"
        }
      ]
    },
    {
      "cell_type": "code",
      "metadata": {
        "colab": {
          "base_uri": "https://localhost:8080/"
        },
        "id": "TuI6CVh4RdgS",
        "outputId": "51a1f29c-9548-465c-bcbb-263d3ddf26fc"
      },
      "source": [
        "# a and be are true\r\n",
        "\r\n",
        "a = True\r\n",
        "b = True\r\n",
        "\r\n",
        "print(a and  b)\r\n",
        "\r\n",
        "#only  a is true\r\n",
        "\r\n",
        "a = True\r\n",
        "b = False\r\n",
        "\r\n",
        "print(a and b)\r\n",
        "\r\n",
        "#ONLY B IS TRUE\r\n",
        "a = False\r\n",
        "b = True\r\n",
        "\r\n",
        "print(a and b)\r\n",
        "\r\n",
        "# a and b are both false\r\n",
        "a = False\r\n",
        "b = False\r\n",
        "print(a and b)"
      ],
      "execution_count": null,
      "outputs": [
        {
          "output_type": "stream",
          "text": [
            "True\n",
            "False\n",
            "False\n",
            "False\n"
          ],
          "name": "stdout"
        }
      ]
    },
    {
      "cell_type": "markdown",
      "metadata": {
        "id": "pv-bOEtWZSYi"
      },
      "source": [
        "#**Assignment Operators**\r\n"
      ]
    },
    {
      "cell_type": "code",
      "metadata": {
        "colab": {
          "base_uri": "https://localhost:8080/"
        },
        "id": "yP0fRucXZPU3",
        "outputId": "5e16f0ea-c832-4231-cf96-8b8b55732852"
      },
      "source": [
        "# assignment operator\r\n",
        "x =21\r\n",
        "print(x)"
      ],
      "execution_count": null,
      "outputs": [
        {
          "output_type": "stream",
          "text": [
            "21\n"
          ],
          "name": "stdout"
        }
      ]
    },
    {
      "cell_type": "code",
      "metadata": {
        "colab": {
          "base_uri": "https://localhost:8080/"
        },
        "id": "5PD4nWvmZh5N",
        "outputId": "180a55ab-d38c-4f6f-a374-0bf0f0277b12"
      },
      "source": [
        "# += operator\r\n",
        "x += 3\r\n",
        "print(x)"
      ],
      "execution_count": null,
      "outputs": [
        {
          "output_type": "stream",
          "text": [
            "24\n"
          ],
          "name": "stdout"
        }
      ]
    },
    {
      "cell_type": "code",
      "metadata": {
        "colab": {
          "base_uri": "https://localhost:8080/"
        },
        "id": "_5EgOF_VbQGY",
        "outputId": "836755da-5256-4a91-a3de-7d6e251674b4"
      },
      "source": [
        "# -= operator\r\n",
        "\r\n",
        "x -= 3\r\n",
        "print(x)"
      ],
      "execution_count": null,
      "outputs": [
        {
          "output_type": "stream",
          "text": [
            "18\n"
          ],
          "name": "stdout"
        }
      ]
    },
    {
      "cell_type": "code",
      "metadata": {
        "colab": {
          "base_uri": "https://localhost:8080/"
        },
        "id": "ermb9XF7bu0H",
        "outputId": "3ec7b9fe-e4bb-4486-f7a1-8d307306d503"
      },
      "source": [
        "# *= operator\r\n",
        "\r\n",
        "x *= 3\r\n",
        "print(x)"
      ],
      "execution_count": null,
      "outputs": [
        {
          "output_type": "stream",
          "text": [
            "63\n"
          ],
          "name": "stdout"
        }
      ]
    },
    {
      "cell_type": "code",
      "metadata": {
        "colab": {
          "base_uri": "https://localhost:8080/"
        },
        "id": "WwhCTFNwcOza",
        "outputId": "7229eb03-ea68-4c93-a310-1962920898d6"
      },
      "source": [
        " # /= operator\r\n",
        " x /= 3\r\n",
        " print(x)"
      ],
      "execution_count": null,
      "outputs": [
        {
          "output_type": "stream",
          "text": [
            "7.0\n"
          ],
          "name": "stdout"
        }
      ]
    },
    {
      "cell_type": "code",
      "metadata": {
        "colab": {
          "base_uri": "https://localhost:8080/"
        },
        "id": "0FFuq0PqcugE",
        "outputId": "7afc6f7e-0466-4f90-ad12-b6805fddc714"
      },
      "source": [
        "# //= operator\r\n",
        "x //= 3\r\n",
        "print(x)"
      ],
      "execution_count": null,
      "outputs": [
        {
          "output_type": "stream",
          "text": [
            "2.0\n"
          ],
          "name": "stdout"
        }
      ]
    },
    {
      "cell_type": "code",
      "metadata": {
        "colab": {
          "base_uri": "https://localhost:8080/"
        },
        "id": "Rza-u39uc7d0",
        "outputId": "322b1e97-a1a5-4d0e-e0b5-475959ec7293"
      },
      "source": [
        "# %= operator\r\n",
        "x %= 3\r\n",
        "print(x)"
      ],
      "execution_count": null,
      "outputs": [
        {
          "output_type": "stream",
          "text": [
            "0\n"
          ],
          "name": "stdout"
        }
      ]
    }
  ]
}